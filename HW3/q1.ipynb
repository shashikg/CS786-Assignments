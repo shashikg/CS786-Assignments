{
 "cells": [
  {
   "cell_type": "code",
   "execution_count": 1,
   "metadata": {},
   "outputs": [],
   "source": [
    "import numpy as np\n",
    "from googlesearch import get_freq"
   ]
  },
  {
   "cell_type": "code",
   "execution_count": 2,
   "metadata": {},
   "outputs": [],
   "source": [
    "N = 25270000000000 #1000*(no of webpages for search 'a')\n",
    "def get_NGD(w1, w2):   \n",
    "    fx = get_freq(w1)\n",
    "    fy = get_freq(w2)\n",
    "    fxy = get_freq(w1 + '+' + w2)\n",
    "    NGD = (max(np.log(fx), np.log(fy)) - np.log(fxy))/(np.log(N) - min(np.log(fx), np.log(fy)))\n",
    "    \n",
    "    return NGD"
   ]
  },
  {
   "cell_type": "code",
   "execution_count": 3,
   "metadata": {},
   "outputs": [
    {
     "name": "stdout",
     "output_type": "stream",
     "text": [
      "Enter Word 1: dream\n",
      "Enter Word 2: world\n"
     ]
    }
   ],
   "source": [
    "w1 = input('Enter Word 1: ')\n",
    "w2 = input('Enter Word 2: ')"
   ]
  },
  {
   "cell_type": "code",
   "execution_count": 4,
   "metadata": {},
   "outputs": [
    {
     "name": "stdout",
     "output_type": "stream",
     "text": [
      "0.19841794581643415\n"
     ]
    }
   ],
   "source": [
    "NGD = get_NGD(w1, w2)\n",
    "print(NGD)"
   ]
  }
 ],
 "metadata": {
  "kernelspec": {
   "display_name": "Python 3",
   "language": "python",
   "name": "python3"
  },
  "language_info": {
   "codemirror_mode": {
    "name": "ipython",
    "version": 3
   },
   "file_extension": ".py",
   "mimetype": "text/x-python",
   "name": "python",
   "nbconvert_exporter": "python",
   "pygments_lexer": "ipython3",
   "version": "3.6.7"
  }
 },
 "nbformat": 4,
 "nbformat_minor": 2
}
