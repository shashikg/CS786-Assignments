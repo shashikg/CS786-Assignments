{
 "cells": [
  {
   "cell_type": "code",
   "execution_count": 1,
   "metadata": {},
   "outputs": [],
   "source": [
    "import numpy as np\n",
    "from numpy.random import rand as U"
   ]
  },
  {
   "cell_type": "code",
   "execution_count": 2,
   "metadata": {},
   "outputs": [],
   "source": [
    "x_train = np.array([[0, 0, 0],\n",
    "                    [0, 0, 1],\n",
    "                    [0, 1, 0],\n",
    "                    [0, 1, 1],\n",
    "                    [1, 0, 0],\n",
    "                    [1, 0, 1],\n",
    "                    [1, 1, 0],\n",
    "                    [1, 1, 1],])\n",
    "\n",
    "y_train = np.zeros((8,1))"
   ]
  },
  {
   "cell_type": "code",
   "execution_count": 3,
   "metadata": {},
   "outputs": [],
   "source": [
    "def activation(x):\n",
    "    return 1/(1+np.exp(-x))"
   ]
  },
  {
   "cell_type": "code",
   "execution_count": 4,
   "metadata": {},
   "outputs": [],
   "source": [
    "def Delta(x, y, o):\n",
    "    dW = x*y*(y - o)*(y - 1)\n",
    "    return (np.sum(dW, axis = 0)).reshape((x.shape[1],1))"
   ]
  },
  {
   "cell_type": "code",
   "execution_count": 5,
   "metadata": {},
   "outputs": [],
   "source": [
    "def output(x, y, z):\n",
    "    y = (activation(np.dot(np.array([[x, y, z]]), W) + b))\n",
    "    y = y > 0.5\n",
    "    return int(y)"
   ]
  },
  {
   "cell_type": "markdown",
   "metadata": {},
   "source": [
    "**Please provide your 3 input binary function.**\n",
    "\n",
    "**=========================| NOTE |=========================**\n",
    "- Use x, y, z as 3 inputs and for writing not of x write it as x'\n",
    "- use '.' for 'AND' and '+' for 'OR' operators.\n",
    "- write the function as sum of products.\n",
    "\n",
    "**=========================================================**\n",
    "\n",
    "**Example:** x'.y.z + y'.z + z'"
   ]
  },
  {
   "cell_type": "code",
   "execution_count": 34,
   "metadata": {},
   "outputs": [
    {
     "name": "stdout",
     "output_type": "stream",
     "text": [
      "- Use x, y, z as 3 inputs and for writing not of x write it as x' \n",
      "- use '.' for 'AND' and '+' for 'OR' operators. \n",
      "- write the function as sum of products.\n",
      "Example: x'.y.z + y'.z + z'\n",
      "Function: x'.y.z + y'.z + z'\n",
      "(1 - x)*y*z + (1 - y)*z + (1 - z)\n"
     ]
    }
   ],
   "source": [
    "print(\"- Use x, y, z as 3 inputs and for writing not of x write it as x' \\n- use '.' for 'AND' and '+' for 'OR' operators. \\n- write the function as sum of products.\\nExample: x'.y.z + y'.z + z'\")\n",
    "\n",
    "f = input(\"Function: \")\n",
    "bool_exp = \"\"\n",
    "\n",
    "# convert the inputed function into string mathematical expression\n",
    "# The expression gives > 0 for logic 1 and 0 for logic 0\n",
    "# eval is used to convert string into expression!\n",
    "for j in range(len(f)):\n",
    "    if f[j] == \"'\":\n",
    "        bool_exp = bool_exp[:-1] + \"(1 - \" + str(bool_exp[-1]) + \")\"\n",
    "    elif f[j] == \".\":\n",
    "        bool_exp += \"*\"\n",
    "    else:\n",
    "        bool_exp += f[j]\n",
    "        \n",
    "print(bool_exp)"
   ]
  },
  {
   "cell_type": "code",
   "execution_count": 35,
   "metadata": {},
   "outputs": [],
   "source": [
    "for i in range(8):\n",
    "    x = x_train[i][0]\n",
    "    y = x_train[i][1]\n",
    "    z = x_train[i][2]\n",
    "    \n",
    "    y_train[i] = not (not (eval(bool_exp))) "
   ]
  },
  {
   "cell_type": "code",
   "execution_count": 36,
   "metadata": {},
   "outputs": [
    {
     "name": "stdout",
     "output_type": "stream",
     "text": [
      "=======[ Start Learning ]=======\n",
      "Epoch:  0 Error:  0.31059674297434076\n",
      "Epoch:  100 Error:  0.03384404280334815\n",
      "Epoch:  200 Error:  0.017934785994353393\n",
      "Epoch:  300 Error:  0.011773609054475206\n",
      "Epoch:  400 Error:  0.008608457608560851\n",
      "Epoch:  500 Error:  0.00671946837740784\n",
      "Epoch:  600 Error:  0.005478678987643778\n",
      "Epoch:  700 Error:  0.0046075444707885495\n",
      "Epoch:  800 Error:  0.003965331159764857\n",
      "Epoch:  900 Error:  0.003473905495170054\n"
     ]
    }
   ],
   "source": [
    "W = U(3,1) - 0.5\n",
    "b = U(1,1) - 0.5\n",
    "lr = 1\n",
    "\n",
    "print(\"=======[ Start Learning ]=======\")\n",
    "for e in range(1000):\n",
    "    y = (activation(np.dot(x_train, W) + b)).reshape(-1,1)\n",
    "    if e%100 == 0:\n",
    "        error = np.sum((y-y_train)*(y-y_train))/8\n",
    "        print('Epoch: ', e, 'Error: ', error)\n",
    "    dW = Delta(x_train, y, y_train)\n",
    "    db = Delta(np.ones((8,1)), y, y_train)\n",
    "    \n",
    "    W += lr*dW\n",
    "    b += lr*db"
   ]
  },
  {
   "cell_type": "code",
   "execution_count": 37,
   "metadata": {},
   "outputs": [
    {
     "name": "stdout",
     "output_type": "stream",
     "text": [
      "Veirfy f = x'.y.z + y'.z + z'\n",
      "\n",
      "[x y z] [ f ]\n",
      "[0 0 0] [ 1 ]\n",
      "[0 0 1] [ 1 ]\n",
      "[0 1 0] [ 1 ]\n",
      "[0 1 1] [ 1 ]\n",
      "[1 0 0] [ 1 ]\n",
      "[1 0 1] [ 1 ]\n",
      "[1 1 0] [ 1 ]\n",
      "[1 1 1] [ 0 ]\n"
     ]
    }
   ],
   "source": [
    "print('Veirfy f = ' + f + '\\n')\n",
    "print('[x y z] [ f ]')\n",
    "for test in x_train:\n",
    "    print(test, '[', output(test[0], test[1], test[2]), ']')"
   ]
  },
  {
   "cell_type": "code",
   "execution_count": null,
   "metadata": {},
   "outputs": [],
   "source": []
  }
 ],
 "metadata": {
  "kernelspec": {
   "display_name": "Python 3",
   "language": "python",
   "name": "python3"
  },
  "language_info": {
   "codemirror_mode": {
    "name": "ipython",
    "version": 3
   },
   "file_extension": ".py",
   "mimetype": "text/x-python",
   "name": "python",
   "nbconvert_exporter": "python",
   "pygments_lexer": "ipython3",
   "version": "3.6.7"
  }
 },
 "nbformat": 4,
 "nbformat_minor": 2
}
