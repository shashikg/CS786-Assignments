{
 "cells": [
  {
   "cell_type": "code",
   "execution_count": 78,
   "metadata": {},
   "outputs": [],
   "source": [
    "import numpy as np\n",
    "from numpy.random import choice as randI"
   ]
  },
  {
   "cell_type": "code",
   "execution_count": 5,
   "metadata": {},
   "outputs": [
    {
     "name": "stdout",
     "output_type": "stream",
     "text": [
      "Size: 100\n",
      "Holes: 20\n"
     ]
    }
   ],
   "source": [
    "N = int(input(\"Size: \"))\n",
    "M = int(input(\"Holes: \"))"
   ]
  },
  {
   "cell_type": "code",
   "execution_count": null,
   "metadata": {},
   "outputs": [],
   "source": [
    "def generate_env(N, M):\n",
    "    L = int(np.sqrt(N))\n",
    "    R = np.zeros((L, L))\n",
    "    H = randI(N-2, M, replace=False) + 1\n",
    "    \n",
    "    for i in H:\n",
    "    R[int(i/L)][int(i%L)] = -80\n",
    "    \n",
    "    R[L-1][L-1] = 80"
   ]
  },
  {
   "cell_type": "code",
   "execution_count": 79,
   "metadata": {},
   "outputs": [],
   "source": []
  },
  {
   "cell_type": "code",
   "execution_count": 80,
   "metadata": {},
   "outputs": [],
   "source": []
  },
  {
   "cell_type": "code",
   "execution_count": 81,
   "metadata": {},
   "outputs": [],
   "source": []
  },
  {
   "cell_type": "code",
   "execution_count": 83,
   "metadata": {},
   "outputs": [
    {
     "data": {
      "text/plain": [
       "array([[  0.,   0.,   0.,   0., -80.,   0.,   0.,   0., -80., -80.],\n",
       "       [  0., -80.,   0.,   0.,   0.,   0.,   0., -80.,   0., -80.],\n",
       "       [  0., -80.,   0.,   0.,   0.,   0.,   0., -80.,   0., -80.],\n",
       "       [  0.,   0.,   0.,   0.,   0.,   0.,   0.,   0., -80.,   0.],\n",
       "       [  0., -80.,   0., -80., -80.,   0.,   0.,   0.,   0.,   0.],\n",
       "       [  0., -80., -80.,   0.,   0.,   0.,   0.,   0.,   0.,   0.],\n",
       "       [  0.,   0.,   0.,   0.,   0.,   0.,   0.,   0., -80.,   0.],\n",
       "       [  0.,   0., -80.,   0.,   0.,   0.,   0.,   0.,   0., -80.],\n",
       "       [-80.,   0.,   0.,   0.,   0., -80.,   0.,   0.,   0.,   0.],\n",
       "       [  0.,   0.,   0.,   0.,   0.,   0.,   0.,   0.,   0.,  80.]])"
      ]
     },
     "execution_count": 83,
     "metadata": {},
     "output_type": "execute_result"
    }
   ],
   "source": [
    "R"
   ]
  },
  {
   "cell_type": "code",
   "execution_count": null,
   "metadata": {},
   "outputs": [],
   "source": []
  }
 ],
 "metadata": {
  "kernelspec": {
   "display_name": "Python 3",
   "language": "python",
   "name": "python3"
  },
  "language_info": {
   "codemirror_mode": {
    "name": "ipython",
    "version": 3
   },
   "file_extension": ".py",
   "mimetype": "text/x-python",
   "name": "python",
   "nbconvert_exporter": "python",
   "pygments_lexer": "ipython3",
   "version": "3.6.7"
  }
 },
 "nbformat": 4,
 "nbformat_minor": 2
}
