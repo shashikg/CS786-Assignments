{
 "cells": [
  {
   "cell_type": "code",
   "execution_count": 1,
   "metadata": {},
   "outputs": [],
   "source": [
    "import numpy as np\n",
    "import cv2\n",
    "import matplotlib.pyplot as plt\n",
    "from skimage import io\n",
    "from ComplexCells import detect_square, detect_triangle, get_squares_centroid, get_triangles_centroid, classify"
   ]
  },
  {
   "cell_type": "code",
   "execution_count": 2,
   "metadata": {},
   "outputs": [],
   "source": [
    "img_tri = cv2.imread('triangle.jpg')\n",
    "img_sq = cv2.imread('square.jpg')\n",
    "img_bl = cv2.imread('blank.jpg')\n",
    "img_mul = cv2.imread('mul.jpg')"
   ]
  },
  {
   "cell_type": "code",
   "execution_count": 3,
   "metadata": {},
   "outputs": [
    {
     "name": "stdout",
     "output_type": "stream",
     "text": [
      "|====== TEST Classify ======|\n",
      "Test Square:  square\n",
      "Test Triangle:  triangle\n",
      "Test Else:  else\n"
     ]
    }
   ],
   "source": [
    "shape = ['square', 'triangle', 'else']\n",
    "\n",
    "print('|====== TEST Classify ======|')\n",
    "print('Test Square: ', shape[classify(img_sq)])\n",
    "print('Test Triangle: ', shape[classify(img_tri)])\n",
    "print('Test Else: ', shape[classify(img_bl)])"
   ]
  },
  {
   "cell_type": "code",
   "execution_count": 4,
   "metadata": {},
   "outputs": [
    {
     "name": "stdout",
     "output_type": "stream",
     "text": [
      "|====== TEST Location in Multiple Objects ======|\n",
      "No of Squares (shown with black dots):  35\n",
      "No of Triangles (shown with white dots):  109\n"
     ]
    },
    {
     "data": {
      "text/plain": [
       "True"
      ]
     },
     "execution_count": 4,
     "metadata": {},
     "output_type": "execute_result"
    },
    {
     "data": {
      "image/png": "[encoded data removed]",
      "text/plain": [
       "<Figure size 432x288 with 1 Axes>"
      ]
     },
     "metadata": {
      "needs_background": "light"
     },
     "output_type": "display_data"
    }
   ],
   "source": [
    "print('|====== TEST Location in Multiple Objects ======|')\n",
    "bimg = np.copy(img_mul)\n",
    "\n",
    "centroid = get_squares_centroid(img_mul)\n",
    "print(\"No of Squares (shown with black dots): \", centroid.shape[0])\n",
    "centroid = np.asarray(centroid)\n",
    "for i in range(centroid.shape[0]):\n",
    "    cen = centroid[i]\n",
    "    bimg = cv2.circle(bimg,(np.int(cen[0]), np.int(cen[1])), 10, (0,0,0), -1)\n",
    "    \n",
    "centroid = get_triangles_centroid(img_mul)\n",
    "print(\"No of Triangles (shown with white dots): \", centroid.shape[0])\n",
    "centroid = np.asarray(centroid)\n",
    "for i in range(centroid.shape[0]):\n",
    "    cen = centroid[i]\n",
    "    bimg = cv2.circle(bimg,(np.int(cen[0]), np.int(cen[1])), 10, (255,255,255), -1)\n",
    "    \n",
    "io.imshow(np.uint8(bimg))\n",
    "cv2.imwrite('multiple_detection_output.jpg', bimg)"
   ]
  },
  {
   "cell_type": "code",
   "execution_count": null,
   "metadata": {},
   "outputs": [],
   "source": []
  }
 ],
 "metadata": {
  "kernelspec": {
   "display_name": "Python 3",
   "language": "python",
   "name": "python3"
  },
  "language_info": {
   "codemirror_mode": {
    "name": "ipython",
    "version": 3
   },
   "file_extension": ".py",
   "mimetype": "text/x-python",
   "name": "python",
   "nbconvert_exporter": "python",
   "pygments_lexer": "ipython3",
   "version": "3.6.7"
  }
 },
 "nbformat": 4,
 "nbformat_minor": 2
}
