{
 "cells": [
  {
   "cell_type": "code",
   "execution_count": 1,
   "metadata": {},
   "outputs": [],
   "source": [
    "import numpy as np\n",
    "import cv2\n",
    "import matplotlib.pyplot as plt\n",
    "from skimage import io\n",
    "from ComplexCells import detect_square, detect_triangle, classify\n",
    "from SearchParadigm import get_paradigm\n",
    "import time;"
   ]
  },
  {
   "cell_type": "code",
   "execution_count": 2,
   "metadata": {},
   "outputs": [],
   "source": [
    "def feature_search(color_map, shape_map):\n",
    "# Since this search is based on just one feature, counting the occurrences of each type i.e. \n",
    "# numbers of blues and numbers of reds. The one which gives only 1 occurrence will be the odd one.\n",
    "    arg_red = np.asarray(np.nonzero(1 - color_map))\n",
    "    arg_blue = np.asarray(np.nonzero(color_map))\n",
    "\n",
    "    arg_sq = np.asarray(np.nonzero(1 - shape_map))\n",
    "    arg_tr = np.asarray(np.nonzero(shape_map))\n",
    "    \n",
    "    if arg_red.shape[1] == 1:\n",
    "        return (1, int(arg_red))\n",
    "    elif arg_blue.shape[1] == 1:\n",
    "        return (1, int(arg_blue))\n",
    "    elif arg_sq.shape[1] == 1:\n",
    "        return (1, int(arg_sq))\n",
    "    elif arg_tr.shape[1] == 1:\n",
    "        return (1, int(arg_tr))\n",
    "    \n",
    "    time.sleep(0.02)\n",
    "    \n",
    "    return (0, -1)"
   ]
  },
  {
   "cell_type": "code",
   "execution_count": 3,
   "metadata": {},
   "outputs": [],
   "source": [
    "def conjunction_search(color_map, shape_map):\n",
    "# After going at every position object will be classified on the basis of both features \n",
    "# one which yields only one occurrence will be the odd one.\n",
    "\n",
    "    b_tr = []\n",
    "    r_tr = []\n",
    "    b_sq = []\n",
    "    r_sq = []\n",
    "    \n",
    "    for i in range(color_map.shape[0]):\n",
    "        if (color_map[i] == 0): #red color\n",
    "            if (shape_map[i] == 0): #square shape\n",
    "                r_sq.append(i)\n",
    "            else: \n",
    "                r_tr.append(i)\n",
    "        else:\n",
    "            if (shape_map[i] == 0): #square shape\n",
    "                b_sq.append(i)\n",
    "            else: \n",
    "                b_tr.append(i)\n",
    "                \n",
    "        time.sleep(0.015)\n",
    "                \n",
    "    if len(b_tr) == 1:\n",
    "        return (1, int(b_tr[0]))\n",
    "    elif len(r_tr) == 1:\n",
    "        return (1, int(r_tr[0]))\n",
    "    elif len(b_sq) == 1:\n",
    "        return (1, int(b_sq[0]))\n",
    "    elif len(r_sq) == 1:\n",
    "        return (1, int(r_sq[0]))\n",
    "    \n",
    "    time.sleep(0.02)\n",
    "    \n",
    "    return (0, -1)"
   ]
  },
  {
   "cell_type": "code",
   "execution_count": 4,
   "metadata": {},
   "outputs": [],
   "source": [
    "# | returns color | 0 - red | 1 - blue |\n",
    "def get_color(img):\n",
    "    k = np.sum(img, axis=(0,1))\n",
    "    ch = np.argmax(k) #channel having highest intensity\n",
    "    \n",
    "    if ch == 0:\n",
    "        return 0\n",
    "    else:\n",
    "        return 1"
   ]
  },
  {
   "cell_type": "code",
   "execution_count": 5,
   "metadata": {},
   "outputs": [],
   "source": [
    "def get_feature_map(object_location, paradigm_img):\n",
    "    # | create shape map | 0 - square | 1 - triangle |\n",
    "    shape_map = np.zeros(object_location.shape)\n",
    "    for i in range(shape_map.shape[0]):\n",
    "        img = paradigm_img[int(object_location[i]/12)*120:(int(object_location[i]/12)+1)*120, int(object_location[i]%12)*120:(int(object_location[i]%12)+1)*120, :] \n",
    "        shape_map[i] = classify(img)\n",
    "\n",
    "    # | create color map | 0 - red | 1 - blue |\n",
    "    color_map = np.zeros(object_location.shape)\n",
    "    for i in range(color_map.shape[0]):\n",
    "        img = paradigm_img[int(object_location[i]/12)*120:(int(object_location[i]/12)+1)*120, int(object_location[i]%12)*120:(int(object_location[i]%12)+1)*120, :]\n",
    "        color_map[i] = classify(img)\n",
    "        \n",
    "    return (shape_map, color_map)"
   ]
  },
  {
   "cell_type": "code",
   "execution_count": 6,
   "metadata": {},
   "outputs": [],
   "source": [
    "RT_F = []\n",
    "print(\"Simulating Feature Search\")\n",
    "for N in range(2,145):\n",
    "    print(\"for object no: \", N)\n",
    "    object_location, paradigm_img = get_paradigm(N, 0)\n",
    "    shape_map, color_map = get_feature_map(object_location, paradigm_img)\n",
    "    \n",
    "    ticks = time.time()\n",
    "    found, i = feature_search(color_map, shape_map)\n",
    "    RT_F.append(time.time() - ticks)"
   ]
  },
  {
   "cell_type": "code",
   "execution_count": 13,
   "metadata": {},
   "outputs": [],
   "source": [
    "RT_C = []\n",
    "print(\"\\nSimulating Conjunction Search\")\n",
    "for N in range(2,145):\n",
    "    print(\"for object no: \", N)\n",
    "    object_location, paradigm_img = get_paradigm(N, 1)\n",
    "    shape_map, color_map = get_feature_map(object_location, paradigm_img)\n",
    "    \n",
    "    ticks = time.time()\n",
    "    found, i = conjunction_search(color_map, shape_map)\n",
    "    RT_C.append(time.time() - ticks)"
   ]
  },
  {
   "cell_type": "code",
   "execution_count": 31,
   "metadata": {},
   "outputs": [
    {
     "data": {
      "image/png": "[encoded data removed]",
      "text/plain": [
       "<Figure size 432x288 with 1 Axes>"
      ]
     },
     "metadata": {
      "needs_background": "light"
     },
     "output_type": "display_data"
    }
   ],
   "source": [
    "plt.plot(RT_F, label='feature search')\n",
    "plt.plot(RT_C, label='conjunction search')\n",
    "\n",
    "plt.ylabel('RT')\n",
    "plt.xlabel('No of Objects')\n",
    "plt.title('RT vs No. of Objects')\n",
    "plt.legend()\n",
    "plt.savefig(\"RTvsN.png\", dpi = 200)"
   ]
  },
  {
   "cell_type": "code",
   "execution_count": null,
   "metadata": {},
   "outputs": [],
   "source": []
  }
 ],
 "metadata": {
  "kernelspec": {
   "display_name": "Python 3",
   "language": "python",
   "name": "python3"
  },
  "language_info": {
   "codemirror_mode": {
    "name": "ipython",
    "version": 3
   },
   "file_extension": ".py",
   "mimetype": "text/x-python",
   "name": "python",
   "nbconvert_exporter": "python",
   "pygments_lexer": "ipython3",
   "version": "3.6.7"
  }
 },
 "nbformat": 4,
 "nbformat_minor": 2
}
